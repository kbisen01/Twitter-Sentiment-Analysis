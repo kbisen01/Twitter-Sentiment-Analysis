{
 "cells": [
  {
   "cell_type": "code",
   "execution_count": 10,
   "metadata": {},
   "outputs": [],
   "source": [
    "import pandas as pd\n",
    "import numpy as np\n",
    "import time\n",
    "import tweepy"
   ]
  },
  {
   "cell_type": "code",
   "execution_count": 11,
   "metadata": {},
   "outputs": [],
   "source": [
    "login = pd.read_csv('login.csv')"
   ]
  },
  {
   "cell_type": "code",
   "execution_count": 12,
   "metadata": {},
   "outputs": [],
   "source": [
    "consumer_key = login.key[0]\n",
    "consumer_secret = login.key[1]\n",
    "access_key = login.key[2]\n",
    "access_secret = login.key[3]"
   ]
  },
  {
   "cell_type": "code",
   "execution_count": 13,
   "metadata": {},
   "outputs": [],
   "source": [
    "auth = tweepy.OAuthHandler(consumer_key, consumer_secret)"
   ]
  },
  {
   "cell_type": "code",
   "execution_count": 14,
   "metadata": {},
   "outputs": [],
   "source": [
    "auth.set_access_token(access_key, access_secret)"
   ]
  },
  {
   "cell_type": "code",
   "execution_count": 15,
   "metadata": {},
   "outputs": [],
   "source": [
    "api = tweepy.API(auth, wait_on_rate_limit=True)"
   ]
  },
  {
   "cell_type": "code",
   "execution_count": 7,
   "metadata": {
    "scrolled": false
   },
   "outputs": [],
   "source": [
    "text_query = '@amazonIN -filter:retweets'\n",
    "count = 4000\n",
    "try:\n",
    " # Creation of query method using parameters\n",
    " tweets = tweepy.Cursor(api.search,q=text_query,lang='en').items(count)\n",
    " \n",
    " # Pulling information from tweets iterable object\n",
    " tweets_list = [[tweet.created_at, tweet.id, tweet.text] for tweet in tweets]\n",
    " \n",
    " # Creation of dataframe from tweets list\n",
    " \n",
    " amazon_tweets = pd.DataFrame(tweets_list)\n",
    " \n",
    "except BaseException as e:\n",
    "    print('failed on_status,',str(e))\n",
    "    time.sleep(3)"
   ]
  },
  {
   "cell_type": "code",
   "execution_count": 15,
   "metadata": {},
   "outputs": [
    {
     "data": {
      "text/plain": [
       "(4000, 3)"
      ]
     },
     "execution_count": 15,
     "metadata": {},
     "output_type": "execute_result"
    }
   ],
   "source": [
    "amazon_tweets.shape"
   ]
  },
  {
   "cell_type": "code",
   "execution_count": 10,
   "metadata": {
    "scrolled": true
   },
   "outputs": [
    {
     "data": {
      "text/html": [
       "<div>\n",
       "<style scoped>\n",
       "    .dataframe tbody tr th:only-of-type {\n",
       "        vertical-align: middle;\n",
       "    }\n",
       "\n",
       "    .dataframe tbody tr th {\n",
       "        vertical-align: top;\n",
       "    }\n",
       "\n",
       "    .dataframe thead th {\n",
       "        text-align: right;\n",
       "    }\n",
       "</style>\n",
       "<table border=\"1\" class=\"dataframe\">\n",
       "  <thead>\n",
       "    <tr style=\"text-align: right;\">\n",
       "      <th></th>\n",
       "      <th>0</th>\n",
       "      <th>1</th>\n",
       "      <th>2</th>\n",
       "    </tr>\n",
       "  </thead>\n",
       "  <tbody>\n",
       "    <tr>\n",
       "      <th>0</th>\n",
       "      <td>2021-01-23 08:12:28</td>\n",
       "      <td>1352891939566194694</td>\n",
       "      <td>hi @amazonIN, @dominos_india, @hotstartweets and @oyorooms plz get pay later option  #KeepItSimpl</td>\n",
       "    </tr>\n",
       "    <tr>\n",
       "      <th>1</th>\n",
       "      <td>2021-01-23 08:12:22</td>\n",
       "      <td>1352891913301450752</td>\n",
       "      <td>@amazonIN C. 5000 \\n\\n#OPPOA53 #AmazonSpecialsDeal\\n#AmazonGreatRepublicDaySale\\n@amazonIN \\n\\nJ...</td>\n",
       "    </tr>\n",
       "    <tr>\n",
       "      <th>2</th>\n",
       "      <td>2021-01-23 08:12:07</td>\n",
       "      <td>1352891850835693569</td>\n",
       "      <td>@AmazonHelp @amazonIN @amazonpay @JeffBezos If you don't send them the refund amount, what can t...</td>\n",
       "    </tr>\n",
       "    <tr>\n",
       "      <th>3</th>\n",
       "      <td>2021-01-23 08:12:02</td>\n",
       "      <td>1352891831650971648</td>\n",
       "      <td>@amazonIN @amazonIN \\n\\n#AmazonSpecialsDeal #AmazonGreatRepublicDaySale \\n\\n#OPPOA53 is packed w...</td>\n",
       "    </tr>\n",
       "    <tr>\n",
       "      <th>4</th>\n",
       "      <td>2021-01-23 08:11:25</td>\n",
       "      <td>1352891674054127616</td>\n",
       "      <td>@amazonIN Option( C) 5000mAh #OPPOA53\\n #AmazonSpecialsDeal.\\n#AmazonGreatRepublicDaySale</td>\n",
       "    </tr>\n",
       "  </tbody>\n",
       "</table>\n",
       "</div>"
      ],
      "text/plain": [
       "                    0                    1  \\\n",
       "0 2021-01-23 08:12:28  1352891939566194694   \n",
       "1 2021-01-23 08:12:22  1352891913301450752   \n",
       "2 2021-01-23 08:12:07  1352891850835693569   \n",
       "3 2021-01-23 08:12:02  1352891831650971648   \n",
       "4 2021-01-23 08:11:25  1352891674054127616   \n",
       "\n",
       "                                                                                                     2  \n",
       "0    hi @amazonIN, @dominos_india, @hotstartweets and @oyorooms plz get pay later option  #KeepItSimpl  \n",
       "1  @amazonIN C. 5000 \\n\\n#OPPOA53 #AmazonSpecialsDeal\\n#AmazonGreatRepublicDaySale\\n@amazonIN \\n\\nJ...  \n",
       "2  @AmazonHelp @amazonIN @amazonpay @JeffBezos If you don't send them the refund amount, what can t...  \n",
       "3  @amazonIN @amazonIN \\n\\n#AmazonSpecialsDeal #AmazonGreatRepublicDaySale \\n\\n#OPPOA53 is packed w...  \n",
       "4            @amazonIN Option( C) 5000mAh #OPPOA53\\n #AmazonSpecialsDeal.\\n#AmazonGreatRepublicDaySale  "
      ]
     },
     "execution_count": 10,
     "metadata": {},
     "output_type": "execute_result"
    }
   ],
   "source": [
    "amazon_tweets.head()"
   ]
  },
  {
   "cell_type": "code",
   "execution_count": 32,
   "metadata": {},
   "outputs": [],
   "source": [
    "amazon_tweets.columns=['Timestamp', 'ID', 'tweet']"
   ]
  },
  {
   "cell_type": "code",
   "execution_count": 33,
   "metadata": {},
   "outputs": [
    {
     "data": {
      "text/html": [
       "<div>\n",
       "<style scoped>\n",
       "    .dataframe tbody tr th:only-of-type {\n",
       "        vertical-align: middle;\n",
       "    }\n",
       "\n",
       "    .dataframe tbody tr th {\n",
       "        vertical-align: top;\n",
       "    }\n",
       "\n",
       "    .dataframe thead th {\n",
       "        text-align: right;\n",
       "    }\n",
       "</style>\n",
       "<table border=\"1\" class=\"dataframe\">\n",
       "  <thead>\n",
       "    <tr style=\"text-align: right;\">\n",
       "      <th></th>\n",
       "      <th>Timestamp</th>\n",
       "      <th>ID</th>\n",
       "      <th>tweet</th>\n",
       "    </tr>\n",
       "  </thead>\n",
       "  <tbody>\n",
       "    <tr>\n",
       "      <th>0</th>\n",
       "      <td>2021-01-23 08:12:28</td>\n",
       "      <td>1352891939566194694</td>\n",
       "      <td>hi @amazonIN, @dominos_india, @hotstartweets and @oyorooms plz get pay later option  #KeepItSimpl</td>\n",
       "    </tr>\n",
       "    <tr>\n",
       "      <th>1</th>\n",
       "      <td>2021-01-23 08:12:22</td>\n",
       "      <td>1352891913301450752</td>\n",
       "      <td>@amazonIN C. 5000 \\n\\n#OPPOA53 #AmazonSpecialsDeal\\n#AmazonGreatRepublicDaySale\\n@amazonIN \\n\\nJ...</td>\n",
       "    </tr>\n",
       "    <tr>\n",
       "      <th>2</th>\n",
       "      <td>2021-01-23 08:12:07</td>\n",
       "      <td>1352891850835693569</td>\n",
       "      <td>@AmazonHelp @amazonIN @amazonpay @JeffBezos If you don't send them the refund amount, what can t...</td>\n",
       "    </tr>\n",
       "    <tr>\n",
       "      <th>3</th>\n",
       "      <td>2021-01-23 08:12:02</td>\n",
       "      <td>1352891831650971648</td>\n",
       "      <td>@amazonIN @amazonIN \\n\\n#AmazonSpecialsDeal #AmazonGreatRepublicDaySale \\n\\n#OPPOA53 is packed w...</td>\n",
       "    </tr>\n",
       "    <tr>\n",
       "      <th>4</th>\n",
       "      <td>2021-01-23 08:11:25</td>\n",
       "      <td>1352891674054127616</td>\n",
       "      <td>@amazonIN Option( C) 5000mAh #OPPOA53\\n #AmazonSpecialsDeal.\\n#AmazonGreatRepublicDaySale</td>\n",
       "    </tr>\n",
       "  </tbody>\n",
       "</table>\n",
       "</div>"
      ],
      "text/plain": [
       "            Timestamp                   ID  \\\n",
       "0 2021-01-23 08:12:28  1352891939566194694   \n",
       "1 2021-01-23 08:12:22  1352891913301450752   \n",
       "2 2021-01-23 08:12:07  1352891850835693569   \n",
       "3 2021-01-23 08:12:02  1352891831650971648   \n",
       "4 2021-01-23 08:11:25  1352891674054127616   \n",
       "\n",
       "                                                                                                 tweet  \n",
       "0    hi @amazonIN, @dominos_india, @hotstartweets and @oyorooms plz get pay later option  #KeepItSimpl  \n",
       "1  @amazonIN C. 5000 \\n\\n#OPPOA53 #AmazonSpecialsDeal\\n#AmazonGreatRepublicDaySale\\n@amazonIN \\n\\nJ...  \n",
       "2  @AmazonHelp @amazonIN @amazonpay @JeffBezos If you don't send them the refund amount, what can t...  \n",
       "3  @amazonIN @amazonIN \\n\\n#AmazonSpecialsDeal #AmazonGreatRepublicDaySale \\n\\n#OPPOA53 is packed w...  \n",
       "4            @amazonIN Option( C) 5000mAh #OPPOA53\\n #AmazonSpecialsDeal.\\n#AmazonGreatRepublicDaySale  "
      ]
     },
     "execution_count": 33,
     "metadata": {},
     "output_type": "execute_result"
    }
   ],
   "source": [
    "amazon_tweets.head()"
   ]
  },
  {
   "cell_type": "code",
   "execution_count": 9,
   "metadata": {},
   "outputs": [],
   "source": [
    "pd.set_option('display.max_colwidth',100)"
   ]
  },
  {
   "cell_type": "code",
   "execution_count": 21,
   "metadata": {},
   "outputs": [],
   "source": [
    "text_query = '@flipkart -filter:retweets'\n",
    "count = 5000\n",
    "try:\n",
    " # Creation of query method using parameters\n",
    " tweets = tweepy.Cursor(api.search,q=text_query, lang='en').items(count)\n",
    " \n",
    " # Pulling information from tweets iterable object\n",
    " tweets_list = [[tweet.created_at, tweet.id, tweet.text] for tweet in tweets]\n",
    " \n",
    " # Creation of dataframe from tweets list\n",
    " \n",
    " flipkart_tweet = pd.DataFrame(tweets_list, columns=['Timestamp', 'ID', 'tweet'])\n",
    " \n",
    "except BaseException as e:\n",
    "    print('failed on_status,',str(e))\n",
    "    time.sleep(3)"
   ]
  },
  {
   "cell_type": "code",
   "execution_count": 26,
   "metadata": {
    "scrolled": true
   },
   "outputs": [
    {
     "data": {
      "text/html": [
       "<div>\n",
       "<style scoped>\n",
       "    .dataframe tbody tr th:only-of-type {\n",
       "        vertical-align: middle;\n",
       "    }\n",
       "\n",
       "    .dataframe tbody tr th {\n",
       "        vertical-align: top;\n",
       "    }\n",
       "\n",
       "    .dataframe thead th {\n",
       "        text-align: right;\n",
       "    }\n",
       "</style>\n",
       "<table border=\"1\" class=\"dataframe\">\n",
       "  <thead>\n",
       "    <tr style=\"text-align: right;\">\n",
       "      <th></th>\n",
       "      <th>Timestamp</th>\n",
       "      <th>ID</th>\n",
       "      <th>tweet</th>\n",
       "    </tr>\n",
       "  </thead>\n",
       "  <tbody>\n",
       "    <tr>\n",
       "      <th>0</th>\n",
       "      <td>2021-01-29 04:30:31</td>\n",
       "      <td>1355010412131930114</td>\n",
       "      <td>FED UP WITH YOUR BIG FAT LIES. STOP THIS ROBOT...</td>\n",
       "    </tr>\n",
       "    <tr>\n",
       "      <th>1</th>\n",
       "      <td>2021-01-29 04:29:31</td>\n",
       "      <td>1355010157260861441</td>\n",
       "      <td>Dear @Flipkart  thanks for giving me the corre...</td>\n",
       "    </tr>\n",
       "    <tr>\n",
       "      <th>2</th>\n",
       "      <td>2021-01-29 04:25:55</td>\n",
       "      <td>1355009251555504128</td>\n",
       "      <td>@flipkartsupport But didn't not receive any ca...</td>\n",
       "    </tr>\n",
       "    <tr>\n",
       "      <th>3</th>\n",
       "      <td>2021-01-29 04:25:54</td>\n",
       "      <td>1355009247256301571</td>\n",
       "      <td>Committed date has gone but still #Flipkart is...</td>\n",
       "    </tr>\n",
       "    <tr>\n",
       "      <th>4</th>\n",
       "      <td>2021-01-29 04:23:44</td>\n",
       "      <td>1355008702735028224</td>\n",
       "      <td>@flipkartsupport @Flipkart \\nI purchased a pro...</td>\n",
       "    </tr>\n",
       "  </tbody>\n",
       "</table>\n",
       "</div>"
      ],
      "text/plain": [
       "            Timestamp                   ID  \\\n",
       "0 2021-01-29 04:30:31  1355010412131930114   \n",
       "1 2021-01-29 04:29:31  1355010157260861441   \n",
       "2 2021-01-29 04:25:55  1355009251555504128   \n",
       "3 2021-01-29 04:25:54  1355009247256301571   \n",
       "4 2021-01-29 04:23:44  1355008702735028224   \n",
       "\n",
       "                                               tweet  \n",
       "0  FED UP WITH YOUR BIG FAT LIES. STOP THIS ROBOT...  \n",
       "1  Dear @Flipkart  thanks for giving me the corre...  \n",
       "2  @flipkartsupport But didn't not receive any ca...  \n",
       "3  Committed date has gone but still #Flipkart is...  \n",
       "4  @flipkartsupport @Flipkart \\nI purchased a pro...  "
      ]
     },
     "execution_count": 26,
     "metadata": {},
     "output_type": "execute_result"
    }
   ],
   "source": [
    "flipkart_tweet.head()"
   ]
  },
  {
   "cell_type": "code",
   "execution_count": 27,
   "metadata": {},
   "outputs": [
    {
     "data": {
      "text/plain": [
       "(429, 3)"
      ]
     },
     "execution_count": 27,
     "metadata": {},
     "output_type": "execute_result"
    }
   ],
   "source": [
    "flipkart_tweet.shape"
   ]
  },
  {
   "cell_type": "code",
   "execution_count": 19,
   "metadata": {},
   "outputs": [
    {
     "data": {
      "text/plain": [
       "Timestamp('2021-01-28 13:05:22')"
      ]
     },
     "execution_count": 19,
     "metadata": {},
     "output_type": "execute_result"
    }
   ],
   "source": [
    "np.min(flipkart_tweet.iloc[:,0])"
   ]
  },
  {
   "cell_type": "code",
   "execution_count": 21,
   "metadata": {},
   "outputs": [],
   "source": [
    "text_query = 'snapdeal -filter:retweets'\n",
    "count = 4000\n",
    "try:\n",
    " # Creation of query method using parameters\n",
    " tweets = tweepy.Cursor(api.search,q=text_query, lang='en').items(count)\n",
    " \n",
    " # Pulling information from tweets iterable object\n",
    " tweets_list = [[tweet.created_at, tweet.id, tweet.text] for tweet in tweets]\n",
    " \n",
    " # Creation of dataframe from tweets list\n",
    " # Add or remove columns as you remove tweet information\n",
    " snapdeal_tweet = pd.DataFrame(tweets_list, columns=['Timestamp', 'ID', 'tweet'])\n",
    " \n",
    "except BaseException as e:\n",
    "    print('failed on_status,',str(e))\n",
    "    time.sleep(3)"
   ]
  },
  {
   "cell_type": "code",
   "execution_count": 22,
   "metadata": {},
   "outputs": [
    {
     "data": {
      "text/plain": [
       "(776, 3)"
      ]
     },
     "execution_count": 22,
     "metadata": {},
     "output_type": "execute_result"
    }
   ],
   "source": [
    "snapdeal_tweet.shape"
   ]
  },
  {
   "cell_type": "code",
   "execution_count": 22,
   "metadata": {},
   "outputs": [
    {
     "data": {
      "text/plain": [
       "Timestamp('2021-01-08 10:30:19')"
      ]
     },
     "execution_count": 22,
     "metadata": {},
     "output_type": "execute_result"
    }
   ],
   "source": [
    "np.min(snapdeal_tweet['Timestamp'])"
   ]
  },
  {
   "cell_type": "code",
   "execution_count": 23,
   "metadata": {},
   "outputs": [
    {
     "data": {
      "text/plain": [
       "Timestamp('2021-01-16 05:00:12')"
      ]
     },
     "execution_count": 23,
     "metadata": {},
     "output_type": "execute_result"
    }
   ],
   "source": [
    "np.max(snapdeal_tweet['Timestamp'])"
   ]
  },
  {
   "cell_type": "code",
   "execution_count": 34,
   "metadata": {},
   "outputs": [],
   "source": [
    "csv_data=amazon_tweets.to_csv('Amazon_tweets')"
   ]
  },
  {
   "cell_type": "code",
   "execution_count": 89,
   "metadata": {},
   "outputs": [],
   "source": [
    "csv_data=flipkart_tweet.to_csv('Flipkart_tweets')"
   ]
  },
  {
   "cell_type": "code",
   "execution_count": 90,
   "metadata": {},
   "outputs": [],
   "source": [
    "csv_data=snapdeal_tweet.to_csv('Snapdeal_tweets')"
   ]
  },
  {
   "cell_type": "code",
   "execution_count": 26,
   "metadata": {
    "scrolled": true
   },
   "outputs": [
    {
     "data": {
      "text/plain": [
       "Timestamp('2021-01-15 06:52:05')"
      ]
     },
     "execution_count": 26,
     "metadata": {},
     "output_type": "execute_result"
    }
   ],
   "source": [
    "np.min(flipkart_tweet['Timestamp'])"
   ]
  },
  {
   "cell_type": "code",
   "execution_count": 33,
   "metadata": {},
   "outputs": [],
   "source": [
    "text_query = '@flipkart' - 'filter=retweets'\n",
    "count = 2000\n",
    "try:\n",
    " # Creation of query method using parameters\n",
    " tweets = tweepy.Cursor(api.search,q=text_query, until='2021-01-14').items(count)\n",
    " \n",
    " # Pulling information from tweets iterable object\n",
    " tweets_list = [[tweet.created_at, tweet.id, tweet.text] for tweet in tweets]\n",
    " \n",
    " # Creation of dataframe from tweets list\n",
    " # Add or remove columns as you remove tweet information\n",
    " flipkart_tweet2 = pd.DataFrame(tweets_list)\n",
    " \n",
    "except BaseException as e:\n",
    "    print('failed on_status,',str(e))\n",
    "    time.sleep(3)"
   ]
  },
  {
   "cell_type": "code",
   "execution_count": 45,
   "metadata": {},
   "outputs": [
    {
     "data": {
      "text/plain": [
       "(2000, 3)"
      ]
     },
     "execution_count": 45,
     "metadata": {},
     "output_type": "execute_result"
    }
   ],
   "source": [
    "flipkart_tweet2.shape"
   ]
  },
  {
   "cell_type": "code",
   "execution_count": 40,
   "metadata": {},
   "outputs": [
    {
     "data": {
      "text/html": [
       "<div>\n",
       "<style scoped>\n",
       "    .dataframe tbody tr th:only-of-type {\n",
       "        vertical-align: middle;\n",
       "    }\n",
       "\n",
       "    .dataframe tbody tr th {\n",
       "        vertical-align: top;\n",
       "    }\n",
       "\n",
       "    .dataframe thead th {\n",
       "        text-align: right;\n",
       "    }\n",
       "</style>\n",
       "<table border=\"1\" class=\"dataframe\">\n",
       "  <thead>\n",
       "    <tr style=\"text-align: right;\">\n",
       "      <th></th>\n",
       "      <th>Timestamp</th>\n",
       "      <th>ID</th>\n",
       "      <th>tweet</th>\n",
       "    </tr>\n",
       "  </thead>\n",
       "  <tbody>\n",
       "    <tr>\n",
       "      <th>0</th>\n",
       "      <td>2021-01-16 04:59:36</td>\n",
       "      <td>1350306687194980354</td>\n",
       "      <td>@Flipkart @KARISHMAK_TANNA @Flipkart\\n\\n@flipk...</td>\n",
       "    </tr>\n",
       "    <tr>\n",
       "      <th>1</th>\n",
       "      <td>2021-01-16 04:59:23</td>\n",
       "      <td>1350306635164520448</td>\n",
       "      <td>@MaItReYsHaRmA_v @flipkartsupport @IndiGo6E @F...</td>\n",
       "    </tr>\n",
       "    <tr>\n",
       "      <th>2</th>\n",
       "      <td>2021-01-16 04:59:12</td>\n",
       "      <td>1350306585139097601</td>\n",
       "      <td>@Flipkart\\n\\n@flipkartsupport\\n\\n..\\nIts just ...</td>\n",
       "    </tr>\n",
       "    <tr>\n",
       "      <th>3</th>\n",
       "      <td>2021-01-16 04:59:04</td>\n",
       "      <td>1350306552901726211</td>\n",
       "      <td>@Flipkart\\n\\n@flipkartsupport\\n\\n.\\nIts just f...</td>\n",
       "    </tr>\n",
       "    <tr>\n",
       "      <th>4</th>\n",
       "      <td>2021-01-16 04:57:37</td>\n",
       "      <td>1350306186734624769</td>\n",
       "      <td>RT @syedjawdhath: @Flipkart They are cheating ...</td>\n",
       "    </tr>\n",
       "  </tbody>\n",
       "</table>\n",
       "</div>"
      ],
      "text/plain": [
       "            Timestamp                   ID  \\\n",
       "0 2021-01-16 04:59:36  1350306687194980354   \n",
       "1 2021-01-16 04:59:23  1350306635164520448   \n",
       "2 2021-01-16 04:59:12  1350306585139097601   \n",
       "3 2021-01-16 04:59:04  1350306552901726211   \n",
       "4 2021-01-16 04:57:37  1350306186734624769   \n",
       "\n",
       "                                               tweet  \n",
       "0  @Flipkart @KARISHMAK_TANNA @Flipkart\\n\\n@flipk...  \n",
       "1  @MaItReYsHaRmA_v @flipkartsupport @IndiGo6E @F...  \n",
       "2  @Flipkart\\n\\n@flipkartsupport\\n\\n..\\nIts just ...  \n",
       "3  @Flipkart\\n\\n@flipkartsupport\\n\\n.\\nIts just f...  \n",
       "4  RT @syedjawdhath: @Flipkart They are cheating ...  "
      ]
     },
     "execution_count": 40,
     "metadata": {},
     "output_type": "execute_result"
    }
   ],
   "source": [
    "flipkart_tweet.head()"
   ]
  },
  {
   "cell_type": "code",
   "execution_count": 41,
   "metadata": {},
   "outputs": [],
   "source": [
    "flipkart_tweet2.columns=['Timestamp', 'ID', 'tweet']"
   ]
  },
  {
   "cell_type": "code",
   "execution_count": 47,
   "metadata": {},
   "outputs": [],
   "source": [
    "flipkart_tweet_new = flipkart_tweet.merge(flipkart_tweet2, how='outer')"
   ]
  },
  {
   "cell_type": "code",
   "execution_count": 48,
   "metadata": {},
   "outputs": [],
   "source": [
    "csv_data=flipkart_tweet_new.to_csv('Flipkart_tweets')"
   ]
  },
  {
   "cell_type": "code",
   "execution_count": 58,
   "metadata": {},
   "outputs": [],
   "source": [
    "csv_data=snapdeal_tweet.to_csv('Snapdeal_tweets')"
   ]
  },
  {
   "cell_type": "code",
   "execution_count": 4,
   "metadata": {},
   "outputs": [],
   "source": [
    "flipdf= pd.read_csv('datasets/Flipkart_tweets.csv', index_col= 0)"
   ]
  },
  {
   "cell_type": "code",
   "execution_count": 5,
   "metadata": {},
   "outputs": [
    {
     "data": {
      "text/html": [
       "<div>\n",
       "<style scoped>\n",
       "    .dataframe tbody tr th:only-of-type {\n",
       "        vertical-align: middle;\n",
       "    }\n",
       "\n",
       "    .dataframe tbody tr th {\n",
       "        vertical-align: top;\n",
       "    }\n",
       "\n",
       "    .dataframe thead th {\n",
       "        text-align: right;\n",
       "    }\n",
       "</style>\n",
       "<table border=\"1\" class=\"dataframe\">\n",
       "  <thead>\n",
       "    <tr style=\"text-align: right;\">\n",
       "      <th></th>\n",
       "      <th>Timestamp</th>\n",
       "      <th>ID</th>\n",
       "      <th>tweet</th>\n",
       "    </tr>\n",
       "  </thead>\n",
       "  <tbody>\n",
       "    <tr>\n",
       "      <th>0</th>\n",
       "      <td>2021-01-16 04:59:36</td>\n",
       "      <td>1350306687194980354</td>\n",
       "      <td>@Flipkart @KARISHMAK_TANNA @Flipkart\\n\\n@flipk...</td>\n",
       "    </tr>\n",
       "    <tr>\n",
       "      <th>1</th>\n",
       "      <td>2021-01-16 04:59:23</td>\n",
       "      <td>1350306635164520448</td>\n",
       "      <td>@MaItReYsHaRmA_v @flipkartsupport @IndiGo6E @F...</td>\n",
       "    </tr>\n",
       "    <tr>\n",
       "      <th>2</th>\n",
       "      <td>2021-01-16 04:59:12</td>\n",
       "      <td>1350306585139097601</td>\n",
       "      <td>@Flipkart\\n\\n@flipkartsupport\\n\\n..\\nIts just ...</td>\n",
       "    </tr>\n",
       "    <tr>\n",
       "      <th>3</th>\n",
       "      <td>2021-01-16 04:59:04</td>\n",
       "      <td>1350306552901726211</td>\n",
       "      <td>@Flipkart\\n\\n@flipkartsupport\\n\\n.\\nIts just f...</td>\n",
       "    </tr>\n",
       "    <tr>\n",
       "      <th>4</th>\n",
       "      <td>2021-01-16 04:57:37</td>\n",
       "      <td>1350306186734624769</td>\n",
       "      <td>RT @syedjawdhath: @Flipkart They are cheating ...</td>\n",
       "    </tr>\n",
       "  </tbody>\n",
       "</table>\n",
       "</div>"
      ],
      "text/plain": [
       "             Timestamp                   ID  \\\n",
       "0  2021-01-16 04:59:36  1350306687194980354   \n",
       "1  2021-01-16 04:59:23  1350306635164520448   \n",
       "2  2021-01-16 04:59:12  1350306585139097601   \n",
       "3  2021-01-16 04:59:04  1350306552901726211   \n",
       "4  2021-01-16 04:57:37  1350306186734624769   \n",
       "\n",
       "                                               tweet  \n",
       "0  @Flipkart @KARISHMAK_TANNA @Flipkart\\n\\n@flipk...  \n",
       "1  @MaItReYsHaRmA_v @flipkartsupport @IndiGo6E @F...  \n",
       "2  @Flipkart\\n\\n@flipkartsupport\\n\\n..\\nIts just ...  \n",
       "3  @Flipkart\\n\\n@flipkartsupport\\n\\n.\\nIts just f...  \n",
       "4  RT @syedjawdhath: @Flipkart They are cheating ...  "
      ]
     },
     "execution_count": 5,
     "metadata": {},
     "output_type": "execute_result"
    }
   ],
   "source": [
    "flipdf.head()"
   ]
  },
  {
   "cell_type": "code",
   "execution_count": 7,
   "metadata": {},
   "outputs": [
    {
     "name": "stdout",
     "output_type": "stream",
     "text": [
      "2021-01-12 13:03:12\n",
      "2021-01-16 04:59:36\n"
     ]
    }
   ],
   "source": [
    "print(np.min(flipdf.Timestamp))\n",
    "print(np.max(flipdf.Timestamp))"
   ]
  },
  {
   "cell_type": "code",
   "execution_count": 8,
   "metadata": {},
   "outputs": [
    {
     "data": {
      "text/plain": [
       "(3139, 3)"
      ]
     },
     "execution_count": 8,
     "metadata": {},
     "output_type": "execute_result"
    }
   ],
   "source": [
    "flipdf.shape"
   ]
  },
  {
   "cell_type": "code",
   "execution_count": 18,
   "metadata": {},
   "outputs": [
    {
     "data": {
      "text/plain": [
       "625"
      ]
     },
     "execution_count": 18,
     "metadata": {},
     "output_type": "execute_result"
    }
   ],
   "source": [
    "flipdf.duplicated(subset='tweet').sum()"
   ]
  },
  {
   "cell_type": "code",
   "execution_count": 64,
   "metadata": {},
   "outputs": [],
   "source": [
    "flipdf.drop_duplicates(subset='tweet',keep='first',inplace= True)"
   ]
  },
  {
   "cell_type": "code",
   "execution_count": 20,
   "metadata": {},
   "outputs": [],
   "source": [
    "snapdf=pd.read_csv('datasets/Snapdeal_tweets.csv', index_col=0)"
   ]
  },
  {
   "cell_type": "code",
   "execution_count": 21,
   "metadata": {},
   "outputs": [
    {
     "data": {
      "text/plain": [
       "(1287, 3)"
      ]
     },
     "execution_count": 21,
     "metadata": {},
     "output_type": "execute_result"
    }
   ],
   "source": [
    "snapdf.shape"
   ]
  },
  {
   "cell_type": "code",
   "execution_count": 22,
   "metadata": {},
   "outputs": [
    {
     "name": "stdout",
     "output_type": "stream",
     "text": [
      "2021-01-08 10:30:19\n",
      "2021-01-16 05:00:12\n"
     ]
    }
   ],
   "source": [
    "print(np.min(snapdf.Timestamp))\n",
    "print(np.max(snapdf.Timestamp))"
   ]
  },
  {
   "cell_type": "code",
   "execution_count": 28,
   "metadata": {},
   "outputs": [],
   "source": [
    "text_query = 'snapdeal -filter:retweets'\n",
    "count = 4000\n",
    "try:\n",
    " # Creation of query method using parameters\n",
    " tweets = tweepy.Cursor(api.search,q=text_query, lang='en').items(count)\n",
    " \n",
    " # Pulling information from tweets iterable object\n",
    " tweets_list = [[tweet.created_at, tweet.id, tweet.text] for tweet in tweets]\n",
    " \n",
    " # Creation of dataframe from tweets list\n",
    " # Add or remove columns as you remove tweet information\n",
    " snapdeal_tweet = pd.DataFrame(tweets_list)\n",
    " \n",
    "except BaseException as e:\n",
    "    print('failed on_status,',str(e))\n",
    "    time.sleep(3)"
   ]
  },
  {
   "cell_type": "code",
   "execution_count": 29,
   "metadata": {},
   "outputs": [
    {
     "data": {
      "text/plain": [
       "(528, 3)"
      ]
     },
     "execution_count": 29,
     "metadata": {},
     "output_type": "execute_result"
    }
   ],
   "source": [
    "snapdeal_tweet.shape"
   ]
  },
  {
   "cell_type": "code",
   "execution_count": 32,
   "metadata": {},
   "outputs": [
    {
     "name": "stdout",
     "output_type": "stream",
     "text": [
      "2021-01-16 15:35:01\n",
      "2021-01-24 15:52:59\n"
     ]
    }
   ],
   "source": [
    "print(np.min(snapdeal_tweet.iloc[:,0]))\n",
    "print(np.max(snapdeal_tweet.iloc[:,0]))"
   ]
  },
  {
   "cell_type": "code",
   "execution_count": 39,
   "metadata": {},
   "outputs": [],
   "source": [
    "text_query = 'snapdeal -filter:retweets'\n",
    "count = 4000\n",
    "try:\n",
    " # Creation of query method using parameters\n",
    " tweets = tweepy.Cursor(api.search,q=text_query, lang='en', until='2021-01-16').items(count)\n",
    " \n",
    " # Pulling information from tweets iterable object\n",
    " tweets_list = [[tweet.created_at, tweet.id, tweet.text] for tweet in tweets]\n",
    " \n",
    " # Creation of dataframe from tweets list\n",
    " # Add or remove columns as you remove tweet information\n",
    " snapdeal_tweet2 = pd.DataFrame(tweets_list, columns=['Timestamp', 'ID', 'tweet'])\n",
    " \n",
    "except BaseException as e:\n",
    "    print('failed on_status,',str(e))\n",
    "    time.sleep(3)"
   ]
  },
  {
   "cell_type": "code",
   "execution_count": 40,
   "metadata": {},
   "outputs": [
    {
     "data": {
      "text/plain": [
       "(0, 3)"
      ]
     },
     "execution_count": 40,
     "metadata": {},
     "output_type": "execute_result"
    }
   ],
   "source": [
    "snapdeal_tweet2.shape"
   ]
  },
  {
   "cell_type": "code",
   "execution_count": 41,
   "metadata": {},
   "outputs": [
    {
     "data": {
      "text/plain": [
       "111"
      ]
     },
     "execution_count": 41,
     "metadata": {},
     "output_type": "execute_result"
    }
   ],
   "source": [
    "snapdf.duplicated(subset='tweet').sum()"
   ]
  },
  {
   "cell_type": "code",
   "execution_count": 43,
   "metadata": {},
   "outputs": [],
   "source": [
    "snapdeal_tweet.columns=['Timestamp', 'ID', 'tweet']"
   ]
  },
  {
   "cell_type": "code",
   "execution_count": 52,
   "metadata": {},
   "outputs": [],
   "source": [
    "snapdeal_new=pd.concat([snapdf, snapdeal_tweet],ignore_index=True)"
   ]
  },
  {
   "cell_type": "code",
   "execution_count": 53,
   "metadata": {},
   "outputs": [
    {
     "data": {
      "text/plain": [
       "(1815, 3)"
      ]
     },
     "execution_count": 53,
     "metadata": {},
     "output_type": "execute_result"
    }
   ],
   "source": [
    "snapdeal_new.shape"
   ]
  },
  {
   "cell_type": "code",
   "execution_count": 61,
   "metadata": {},
   "outputs": [
    {
     "data": {
      "text/plain": [
       "111"
      ]
     },
     "execution_count": 61,
     "metadata": {},
     "output_type": "execute_result"
    }
   ],
   "source": [
    "snapdeal_new.duplicated(subset='tweet').sum()"
   ]
  },
  {
   "cell_type": "code",
   "execution_count": 62,
   "metadata": {},
   "outputs": [],
   "source": [
    "snapdeal_new.drop_duplicates(subset='tweet', keep='first',inplace=True)"
   ]
  },
  {
   "cell_type": "code",
   "execution_count": 63,
   "metadata": {},
   "outputs": [
    {
     "data": {
      "text/plain": [
       "(1704, 3)"
      ]
     },
     "execution_count": 63,
     "metadata": {},
     "output_type": "execute_result"
    }
   ],
   "source": [
    "snapdeal_new.shape"
   ]
  },
  {
   "cell_type": "code",
   "execution_count": 65,
   "metadata": {},
   "outputs": [
    {
     "data": {
      "text/plain": [
       "(2514, 3)"
      ]
     },
     "execution_count": 65,
     "metadata": {},
     "output_type": "execute_result"
    }
   ],
   "source": [
    "flipdf.shape"
   ]
  },
  {
   "cell_type": "code",
   "execution_count": 66,
   "metadata": {},
   "outputs": [],
   "source": [
    "save=snapdeal_new.to_csv('datasets/Snapdeal_tweets.csv')"
   ]
  },
  {
   "cell_type": "code",
   "execution_count": 20,
   "metadata": {},
   "outputs": [],
   "source": [
    "flipdf=pd.read_csv('datasets/Flipkart_tweets.csv')"
   ]
  },
  {
   "cell_type": "code",
   "execution_count": 33,
   "metadata": {},
   "outputs": [],
   "source": [
    "flipdf['Timestamp']= pd.to_datetime(flipdf['Timestamp'])"
   ]
  },
  {
   "cell_type": "code",
   "execution_count": 34,
   "metadata": {},
   "outputs": [],
   "source": [
    "flipkart_tweet = flipkart_tweet.merge(flipdf, how = 'outer')"
   ]
  },
  {
   "cell_type": "code",
   "execution_count": 35,
   "metadata": {},
   "outputs": [],
   "source": [
    "flipkart_tweet.reset_index(inplace=True)"
   ]
  },
  {
   "cell_type": "code",
   "execution_count": 36,
   "metadata": {},
   "outputs": [],
   "source": [
    "csv_data=flipkart_tweet.to_csv('Flipkart_tweets.csv')"
   ]
  },
  {
   "cell_type": "code",
   "execution_count": 63,
   "metadata": {},
   "outputs": [],
   "source": [
    "# Extracting data on few products\n",
    "text_query = 'oximeter -filter:retweets'\n",
    "count = 4000\n",
    "try:\n",
    " # Creation of query method using parameters\n",
    " tweets = tweepy.Cursor(api.search,q=text_query, lang='en').items(count)\n",
    " \n",
    " # Pulling information from tweets iterable object\n",
    " tweets_list = [[tweet.id, tweet.text] for tweet in tweets]\n",
    " \n",
    " # Creation of dataframe from tweets list\n",
    " # Add or remove columns as you remove tweet information\n",
    " smartband = pd.DataFrame(tweets_list, columns=['ID', 'tweet'])\n",
    " \n",
    "except BaseException as e:\n",
    "    print('failed on_status,',str(e))\n",
    "    time.sleep(3)"
   ]
  },
  {
   "cell_type": "code",
   "execution_count": 64,
   "metadata": {},
   "outputs": [
    {
     "data": {
      "text/plain": [
       "(1543, 2)"
      ]
     },
     "execution_count": 64,
     "metadata": {},
     "output_type": "execute_result"
    }
   ],
   "source": [
    "smartband.shape"
   ]
  },
  {
   "cell_type": "code",
   "execution_count": 65,
   "metadata": {},
   "outputs": [
    {
     "data": {
      "text/plain": [
       "'@IanDunt I got it mild and 8 weeks later I suddenly ended up breathless and down to 80% oxygen. So please get an pu… https://t.co/Q5d2DOwlBm'"
      ]
     },
     "execution_count": 65,
     "metadata": {},
     "output_type": "execute_result"
    }
   ],
   "source": [
    "smartband['tweet'].iloc[10]"
   ]
  },
  {
   "cell_type": "code",
   "execution_count": 68,
   "metadata": {},
   "outputs": [
    {
     "name": "stdout",
     "output_type": "stream",
     "text": [
      "failed on_status, Failed to send request: ('Connection aborted.', OSError(\"(10054, 'WSAECONNRESET')\"))\n"
     ]
    }
   ],
   "source": [
    "text_query = 'iphone -filter:retweets'\n",
    "count = 4000\n",
    "try:\n",
    " # Creation of query method using parameters\n",
    " tweets = tweepy.Cursor(api.search,q=text_query, lang='en').items(count)\n",
    " \n",
    " # Pulling information from tweets iterable object\n",
    " tweets_list = [[tweet.id, tweet.text] for tweet in tweets]\n",
    " \n",
    " # Creation of dataframe from tweets list\n",
    " # Add or remove columns as you remove tweet information\n",
    " iphone = pd.DataFrame(tweets_list, columns=['ID', 'tweet'])\n",
    " \n",
    "except BaseException as e:\n",
    "    print('failed on_status,',str(e))\n",
    "    time.sleep(3)"
   ]
  },
  {
   "cell_type": "code",
   "execution_count": 69,
   "metadata": {},
   "outputs": [],
   "source": [
    "save=smartband.to_csv('oximeter.csv')"
   ]
  },
  {
   "cell_type": "markdown",
   "metadata": {},
   "source": [
    "# Note:\n",
    "## Had some issues with scraping data from twitter,so couldn't get big chunk of tweets for the dataset"
   ]
  },
  {
   "cell_type": "code",
   "execution_count": null,
   "metadata": {},
   "outputs": [],
   "source": []
  }
 ],
 "metadata": {
  "kernelspec": {
   "display_name": "Python 3",
   "language": "python",
   "name": "python3"
  },
  "language_info": {
   "codemirror_mode": {
    "name": "ipython",
    "version": 3
   },
   "file_extension": ".py",
   "mimetype": "text/x-python",
   "name": "python",
   "nbconvert_exporter": "python",
   "pygments_lexer": "ipython3",
   "version": "3.7.3"
  }
 },
 "nbformat": 4,
 "nbformat_minor": 2
}
